{
 "cells": [
  {
   "cell_type": "code",
   "execution_count": 2,
   "id": "605efbc7-c7fd-4852-b6ac-60032c80bae2",
   "metadata": {},
   "outputs": [],
   "source": [
    "name = \"RN\""
   ]
  },
  {
   "cell_type": "code",
   "execution_count": 5,
   "id": "f0361499-6292-44ee-8b8c-8328fd6387dd",
   "metadata": {},
   "outputs": [
    {
     "name": "stdout",
     "output_type": "stream",
     "text": [
      "My RN\n"
     ]
    }
   ],
   "source": [
    "print(\"My\",name)"
   ]
  },
  {
   "cell_type": "code",
   "execution_count": null,
   "id": "9176a8aa-9a41-4442-ba02-7acf19ed1987",
   "metadata": {},
   "outputs": [],
   "source": []
  }
 ],
 "metadata": {
  "kernelspec": {
   "display_name": "Python 3 (ipykernel)",
   "language": "python",
   "name": "python3"
  },
  "language_info": {
   "codemirror_mode": {
    "name": "ipython",
    "version": 3
   },
   "file_extension": ".py",
   "mimetype": "text/x-python",
   "name": "python",
   "nbconvert_exporter": "python",
   "pygments_lexer": "ipython3",
   "version": "3.10.11"
  }
 },
 "nbformat": 4,
 "nbformat_minor": 5
}
